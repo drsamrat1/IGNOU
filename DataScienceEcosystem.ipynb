{
 "cells": [
  {
   "cell_type": "markdown",
   "id": "0771a972-0fbc-407c-815b-f2214d132e54",
   "metadata": {},
   "source": [
    "# Data Science Tools and Ecosystem"
   ]
  },
  {
   "cell_type": "markdown",
   "id": "1401d8e8-3625-4c0b-a4ef-26aa640fe05c",
   "metadata": {},
   "source": [
    "## In this notebook, Data Science Tools and Ecosystem are summarized."
   ]
  },
  {
   "cell_type": "markdown",
   "id": "f6b547fa-e446-407d-8ae5-2f8356430b13",
   "metadata": {},
   "source": [
    "**Objectives:**\n",
    "* List popular languages used in data science\n",
    "* Some of the commonly used libraries by data scientists\n",
    "* Open-source tools for data science\n",
    "* Examples of simple arithmetic expressions in Python"
   ]
  },
  {
   "cell_type": "markdown",
   "id": "b45051db-c085-42dd-9cc1-5dc50d9164b6",
   "metadata": {},
   "source": [
    "## Author\n",
    "Samrat Kumar"
   ]
  },
  {
   "cell_type": "markdown",
   "id": "158645d2-0a54-4731-804c-b6fc225fde81",
   "metadata": {},
   "source": [
    "### Some of the popular languages that Data Scientists use are:"
   ]
  },
  {
   "cell_type": "markdown",
   "id": "8871cd38-84f2-49c4-9015-d5709d70da33",
   "metadata": {},
   "source": [
    "1. Python\n",
    "2. R\n",
    "3. Julia\n",
    "4. Java\n",
    "5. SQL\n",
    "6. Scala"
   ]
  },
  {
   "cell_type": "markdown",
   "id": "2a1b52a0-8f17-4465-af9c-d993fa0eaffd",
   "metadata": {},
   "source": [
    "### Some of the commonly used libraries used by Data Scientists include:"
   ]
  },
  {
   "cell_type": "markdown",
   "id": "4a9d7bcd-f59b-4b69-88b8-31d60cc41fe5",
   "metadata": {},
   "source": [
    "1. numpy\r\n",
    "3. pandas\r\n",
    "4. matplotlib\r\n",
    "5. seaborn\r\n",
    "6. plotly\r\n",
    "7. ggplot2\r\n",
    "8. dpltensorftensorflow\r\n",
    "9. scikit"
   ]
  },
  {
   "cell_type": "markdown",
   "id": "247255a5-5379-41bf-8349-a55517015479",
   "metadata": {},
   "source": [
    "|Data Science Tools|\n",
    "|:-----:|\n",
    "|RStudio IDE|\n",
    "|Jupyter Lab and Notebooks|\n",
    "|Spyder|\n",
    "| MATLAB|\n"
   ]
  },
  {
   "cell_type": "markdown",
   "id": "69079be9-3b69-497e-b2c7-62ade2b0a628",
   "metadata": {},
   "source": [
    "### Below are a few examples of evaluating arithmetic expressions in Python"
   ]
  },
  {
   "cell_type": "code",
   "execution_count": 4,
   "id": "ed9291c8-3ea1-4acd-b7ba-7d8e19cd7c64",
   "metadata": {},
   "outputs": [
    {
     "data": {
      "text/plain": [
       "17"
      ]
     },
     "execution_count": 4,
     "metadata": {},
     "output_type": "execute_result"
    }
   ],
   "source": [
    "# This a simple arithmetic expression to mutiply then add integers\n",
    "(3*4)+5"
   ]
  },
  {
   "cell_type": "code",
   "execution_count": 5,
   "id": "021be5f9-4d84-4c2b-932a-1753980a2185",
   "metadata": {},
   "outputs": [
    {
     "data": {
      "text/plain": [
       "3.3333333333333335"
      ]
     },
     "execution_count": 5,
     "metadata": {},
     "output_type": "execute_result"
    }
   ],
   "source": [
    "# This will convert 200 minutes to hours by diving by 60\n",
    "200/60"
   ]
  },
  {
   "cell_type": "code",
   "execution_count": null,
   "id": "335b5b29-cdb0-4ee1-9f12-3ef9fa6a794b",
   "metadata": {},
   "outputs": [],
   "source": []
  }
 ],
 "metadata": {
  "kernelspec": {
   "display_name": "Python 3 (ipykernel)",
   "language": "python",
   "name": "python3"
  },
  "language_info": {
   "codemirror_mode": {
    "name": "ipython",
    "version": 3
   },
   "file_extension": ".py",
   "mimetype": "text/x-python",
   "name": "python",
   "nbconvert_exporter": "python",
   "pygments_lexer": "ipython3",
   "version": "3.12.4"
  }
 },
 "nbformat": 4,
 "nbformat_minor": 5
}
